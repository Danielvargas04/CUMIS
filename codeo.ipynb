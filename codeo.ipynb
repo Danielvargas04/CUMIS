{
 "cells": [
  {
   "cell_type": "code",
   "execution_count": 10,
   "metadata": {},
   "outputs": [],
   "source": [
    "from functions import *\n",
    "\n",
    "\n",
    "lunar = './data/lunar/test/data/S12_GradeB'\n",
    "lunar_2 = './data/lunar/test/data/S15_GradeA'\n",
    "lunar_3 = './data/lunar/test/data/S15_GradeB'\n",
    "lunar_4 = './data/lunar/test/data/S16_GradeA'\n",
    "lunar_5 = './data/lunar/test/data/S16_GradeB'\n",
    "mars = './data/mars/test/data'\n",
    "earth = './data/EARTH/EARTH/'\n"
   ]
  },
  {
   "cell_type": "code",
   "execution_count": 1,
   "metadata": {},
   "outputs": [
    {
     "ename": "NameError",
     "evalue": "name 'lunar' is not defined",
     "output_type": "error",
     "traceback": [
      "\u001b[0;31m---------------------------------------------------------------------------\u001b[0m",
      "\u001b[0;31mNameError\u001b[0m                                 Traceback (most recent call last)",
      "Cell \u001b[0;32mIn[1], line 4\u001b[0m\n\u001b[1;32m      1\u001b[0m \u001b[38;5;66;03m#sospechosos = [12,18, 9, 2] lunar\u001b[39;00m\n\u001b[1;32m      2\u001b[0m \u001b[38;5;66;03m#sospechosos_lunar_2 = [3]\u001b[39;00m\n\u001b[1;32m      3\u001b[0m \u001b[38;5;28mid\u001b[39m \u001b[38;5;241m=\u001b[39m \u001b[38;5;241m16\u001b[39m\u001b[38;5;66;03m#np.random.randint(0,63)#18\u001b[39;00m\n\u001b[0;32m----> 4\u001b[0m data_directory \u001b[38;5;241m=\u001b[39m \u001b[43mlunar\u001b[49m\n\u001b[1;32m      5\u001b[0m tr_times, tr_data_filt_norm, df, tr_data\u001b[38;5;241m=\u001b[39m data_extrac_test(\u001b[38;5;28mid\u001b[39m, data_directory\u001b[38;5;241m=\u001b[39mdata_directory)\n\u001b[1;32m      6\u001b[0m \u001b[38;5;66;03m#tr_times=tr_times[:90000]\u001b[39;00m\n\u001b[1;32m      7\u001b[0m \u001b[38;5;66;03m#tr_data= tr_data[:90000]\u001b[39;00m\n\u001b[1;32m      8\u001b[0m \u001b[38;5;66;03m#tr_data_filt_norm=tr_data_filt_norm[:90000]\u001b[39;00m\n",
      "\u001b[0;31mNameError\u001b[0m: name 'lunar' is not defined"
     ]
    }
   ],
   "source": [
    "#sospechosos = [12,18, 9, 2] lunar\n",
    "#sospechosos_lunar_2 = [3]\n",
    "id = 16#np.random.randint(0,63)#18\n",
    "data_directory = lunar\n",
    "tr_times, tr_data_filt_norm, df, tr_data= data_extrac_test(id, data_directory=data_directory)\n",
    "#tr_times=tr_times[:90000]\n",
    "#tr_data= tr_data[:90000]\n",
    "#tr_data_filt_norm=tr_data_filt_norm[:90000]\n",
    "print('df: ', df)\n",
    "cft = CFT(tr_data_filt_norm, df)#, 10,50)\n",
    "filtered_cft_real = fourier_filter(cft)\n",
    "# Plot raw data \n",
    "fig,ax = plt.subplots(1,1,figsize=(12,3))\n",
    "ax.plot(tr_times, tr_data_filt_norm, label=f'{id} test ')\n",
    "ax.plot(tr_times, filtered_cft_real, label=f'CFT ')\n",
    "ax.set_xlim([min(tr_times),max(tr_times)])\n",
    "\n",
    "#ax.axvline(x = arrival, color='red',label='Rel. Arrival')\n",
    "\n",
    "\n",
    "#ax.axvline(x = max_pos, color='green')#,label='Rel. Arrival')\n",
    "#ax.set_xlim([72000,76000])\n",
    "ax.set_xlabel('Time (s)')\n",
    "ax.set_ylabel(f'Signal {id} from {data_directory} function')\n",
    "ax.legend()\n",
    "\n",
    "peaks, properties = peaks_plot(tr_times, filtered_cft_real, prominence=0.25, distance=5000*df, wlen_value=4000*df, height=1.0)\n",
    "#def confianza(signal, peaks):\n",
    "index_peaks= peaks\n",
    "time_peaks= tr_times[peaks]\n",
    "\n",
    "print('Indices de los Picos ', index_peaks)\n",
    "print('Tiempos de los Picos ', time_peaks)\n",
    "\n",
    "#Proximamente valores de confianza\n",
    "confianza=np.zeros(len(peaks))\n",
    "frequencies, times, sxx = signal.spectrogram(tr_data, df, nperseg=2000, noverlap=1800) ##argumentos de resolucion en frequencies y tiempo\n",
    "\n",
    "#sxx = sxx[:,np.where(frequencies>0.5)]\n",
    "#print(np.where(frequencies>0.5))\n",
    "\n",
    "\n",
    "low_index = get_index_from_f(frequencies, 0.5)\n",
    "up_index = get_index_from_f(frequencies, 1)\n",
    "\n",
    "#Filter\n",
    "sxx= sxx[low_index:up_index, :]\n",
    "frequencies= frequencies[low_index:up_index]\n",
    "\n",
    "\n",
    "hist, conv = hist_convolve_spectrogram(sxx, 10)\n",
    "plt.show()\n",
    "plt.pcolormesh(times,frequencies,conv)\n",
    "plt.show()\n",
    "\n",
    "\n",
    "\n",
    "\n",
    "plt.plot(hist, label='histograma')\n",
    "\n",
    "\n",
    "plt.legend()\n",
    "\n",
    "plt.show()\n",
    "\n",
    "_, properties = peaks_plot(times, hist, prominence=hist.mean(), distance=10, wlen_value=100, height=0.0)\n",
    "print(_)\n",
    "\n",
    "plt.show()\n"
   ]
  }
 ],
 "metadata": {
  "kernelspec": {
   "display_name": "seismic",
   "language": "python",
   "name": "python3"
  },
  "language_info": {
   "codemirror_mode": {
    "name": "ipython",
    "version": 3
   },
   "file_extension": ".py",
   "mimetype": "text/x-python",
   "name": "python",
   "nbconvert_exporter": "python",
   "pygments_lexer": "ipython3",
   "version": "3.10.15"
  }
 },
 "nbformat": 4,
 "nbformat_minor": 2
}
